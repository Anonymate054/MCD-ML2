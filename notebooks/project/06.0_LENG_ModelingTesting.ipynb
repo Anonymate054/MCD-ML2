{
 "cells": [
  {
   "cell_type": "code",
   "execution_count": 1,
   "metadata": {},
   "outputs": [],
   "source": [
    "import pandas as pd\n",
    "import numpy as np\n",
    "from joblib import load\n",
    "import fs"
   ]
  },
  {
   "cell_type": "code",
   "execution_count": 2,
   "metadata": {},
   "outputs": [],
   "source": [
    "MODELS_PROJECT_DIR = fs.open_fs(\"../../models/project\")\n",
    "PIPELINE_MODEL_DIR = MODELS_PROJECT_DIR.getsyspath(\"pipeline_model_tuning.joblib\")"
   ]
  },
  {
   "cell_type": "markdown",
   "metadata": {},
   "source": [
    "Save model"
   ]
  },
  {
   "cell_type": "code",
   "execution_count": 3,
   "metadata": {},
   "outputs": [],
   "source": [
    "# load the model from disk\n",
    "loaded_model = load(open(PIPELINE_MODEL_DIR, 'rb'))"
   ]
  },
  {
   "cell_type": "code",
   "execution_count": 4,
   "metadata": {},
   "outputs": [
    {
     "name": "stdout",
     "output_type": "stream",
     "text": [
      "Predicted class: 0\n"
     ]
    }
   ],
   "source": [
    "# Diccionario con los datos\n",
    "data = {'LOAN': 30000,\n",
    "        'MORTDUE': 50000,\n",
    "        'VALUE': 10000000,\n",
    "        'REASON': \"HomeImp\",\n",
    "        'JOB': \"Mgr\",\n",
    "        'YOJ': 20.0,\n",
    "        'DEROG': 1,\n",
    "        'DELINQ': 1,\n",
    "        'CLAGE': 10,\n",
    "        'NINQ': 10,\n",
    "        'CLNO': 15,\n",
    "        'DEBTINC': 26.638772794724}\n",
    "\n",
    "# Convertir el diccionario a DataFrame, asumiendo que es una única fila\n",
    "input_data = pd.DataFrame([data])\n",
    "\n",
    "# Hacer una predicción con el modelo\n",
    "prediction = loaded_model.predict(input_data)\n",
    "\n",
    "# Mostrar el resultado de la predicción\n",
    "print(f\"Predicted class: {prediction[0]}\")"
   ]
  },
  {
   "cell_type": "code",
   "execution_count": null,
   "metadata": {},
   "outputs": [],
   "source": []
  }
 ],
 "metadata": {
  "kernelspec": {
   "display_name": "ML2",
   "language": "python",
   "name": "python3"
  },
  "language_info": {
   "codemirror_mode": {
    "name": "ipython",
    "version": 3
   },
   "file_extension": ".py",
   "mimetype": "text/x-python",
   "name": "python",
   "nbconvert_exporter": "python",
   "pygments_lexer": "ipython3",
   "version": "3.11.9"
  }
 },
 "nbformat": 4,
 "nbformat_minor": 2
}
