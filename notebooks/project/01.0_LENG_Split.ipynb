{
 "cells": [
  {
   "cell_type": "code",
   "execution_count": 1,
   "metadata": {},
   "outputs": [],
   "source": [
    "import fs\n",
    "import pandas as pd\n",
    "from sklearn.model_selection import train_test_split"
   ]
  },
  {
   "cell_type": "code",
   "execution_count": 2,
   "metadata": {},
   "outputs": [],
   "source": [
    "INTERIM_PROJECT_DIR = fs.open_fs(\"../../data/interim/project\")\n",
    "INTERIM_FILE_NAME = INTERIM_PROJECT_DIR.getsyspath(\"use_to_divide.csv\")\n",
    "\n",
    "PROCESSED_PROJECT_DIR = fs.open_fs(\"../../data/processed/project\")\n",
    "TRAIN_DIR = PROCESSED_PROJECT_DIR.getsyspath(\"train.csv\")\n",
    "TEST_DIR = PROCESSED_PROJECT_DIR.getsyspath(\"test.csv\")\n",
    "VAL_DIR = PROCESSED_PROJECT_DIR.getsyspath(\"validation.csv\")"
   ]
  },
  {
   "cell_type": "code",
   "execution_count": 3,
   "metadata": {},
   "outputs": [
    {
     "data": {
      "text/plain": [
       "(5960, 14)"
      ]
     },
     "execution_count": 3,
     "metadata": {},
     "output_type": "execute_result"
    }
   ],
   "source": [
    "df_to_divide = pd.read_csv(INTERIM_FILE_NAME)\n",
    "\n",
    "df_to_divide.shape"
   ]
  },
  {
   "cell_type": "code",
   "execution_count": 4,
   "metadata": {},
   "outputs": [],
   "source": [
    "data_without_outliers = df_to_divide[df_to_divide['outlier_flag']=='Not Outlier'].drop(['outlier_flag'], axis=1)"
   ]
  },
  {
   "cell_type": "markdown",
   "metadata": {},
   "source": [
    "Split datasets"
   ]
  },
  {
   "cell_type": "code",
   "execution_count": 5,
   "metadata": {},
   "outputs": [
    {
     "data": {
      "text/plain": [
       "(5947, 13)"
      ]
     },
     "execution_count": 5,
     "metadata": {},
     "output_type": "execute_result"
    }
   ],
   "source": [
    "data_without_outliers.shape"
   ]
  },
  {
   "cell_type": "code",
   "execution_count": 6,
   "metadata": {},
   "outputs": [],
   "source": [
    "categoric_features = ['BAD', 'REASON', 'JOB']\n",
    "data_without_outliers[categoric_features] = data_without_outliers[categoric_features].apply(lambda col: col.astype('category'))"
   ]
  },
  {
   "cell_type": "code",
   "execution_count": 7,
   "metadata": {},
   "outputs": [],
   "source": [
    "train_df, test_df = train_test_split(data_without_outliers, test_size=0.5,random_state=1)\n",
    "test_df, val_df = train_test_split(test_df, test_size=0.3, random_state=1)"
   ]
  },
  {
   "cell_type": "code",
   "execution_count": 8,
   "metadata": {},
   "outputs": [
    {
     "data": {
      "text/plain": [
       "2973"
      ]
     },
     "metadata": {},
     "output_type": "display_data"
    },
    {
     "data": {
      "text/plain": [
       "2081"
      ]
     },
     "metadata": {},
     "output_type": "display_data"
    },
    {
     "data": {
      "text/plain": [
       "893"
      ]
     },
     "metadata": {},
     "output_type": "display_data"
    }
   ],
   "source": [
    "display(len(train_df), len(test_df), len(val_df)) "
   ]
  },
  {
   "cell_type": "code",
   "execution_count": 9,
   "metadata": {},
   "outputs": [],
   "source": [
    "per_data = []\n",
    "\n",
    "# Iterate over columns of object dtype\n",
    "for col in val_df.select_dtypes(include=['object', 'category']):\n",
    "    # Calculate value counts as percentages\n",
    "    percentages = val_df[col].value_counts(normalize=True) * 100\n",
    "    # Iterate over each value and its percentage\n",
    "    for category, percentage in percentages.items():\n",
    "        # Append data as a dictionary\n",
    "        per_data.append({'Column': col, 'Category': category, 'Percentage': percentage})\n",
    "\n",
    "# Create a new DataFrame from the list of dictionaries\n",
    "#train_df_per = pd.DataFrame(per_data)\n",
    "#test_df_per = pd.DataFrame(per_data)\n",
    "val_df_per = pd.DataFrame(per_data)"
   ]
  },
  {
   "cell_type": "code",
   "execution_count": 10,
   "metadata": {},
   "outputs": [],
   "source": [
    "train_df.to_csv(TRAIN_DIR, index=False, encoding=\"utf-8\")\n",
    "test_df.to_csv(TEST_DIR, index=False, encoding=\"utf-8\")\n",
    "val_df.to_csv(VAL_DIR, index=False, encoding=\"utf-8\")"
   ]
  }
 ],
 "metadata": {
  "kernelspec": {
   "display_name": "ML2",
   "language": "python",
   "name": "python3"
  },
  "language_info": {
   "codemirror_mode": {
    "name": "ipython",
    "version": 3
   },
   "file_extension": ".py",
   "mimetype": "text/x-python",
   "name": "python",
   "nbconvert_exporter": "python",
   "pygments_lexer": "ipython3",
   "version": "3.11.9"
  }
 },
 "nbformat": 4,
 "nbformat_minor": 2
}
