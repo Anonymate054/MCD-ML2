{
 "cells": [
  {
   "cell_type": "code",
   "execution_count": 1,
   "metadata": {},
   "outputs": [],
   "source": [
    "import fs\n",
    "import pandas as pd\n",
    "from sklearn.compose import ColumnTransformer\n",
    "from sklearn import metrics\n",
    "from sklearn.metrics import classification_report\n",
    "from sklearn.preprocessing import RobustScaler\n",
    "from sklearn.preprocessing import OrdinalEncoder\n",
    "\n",
    "import seaborn as sns\n",
    "import matplotlib.pyplot as plt\n",
    "\n",
    "from xgboost import XGBClassifier\n",
    "from sklearn.pipeline import Pipeline\n",
    "from joblib import dump\n",
    "from joblib import load\n",
    "from sklearn.model_selection import cross_val_score\n",
    "\n",
    "import optuna\n",
    "from sklearn.model_selection import StratifiedKFold"
   ]
  },
  {
   "cell_type": "code",
   "execution_count": 2,
   "metadata": {},
   "outputs": [],
   "source": [
    "PROCESSED_PROJECT_DIR = fs.open_fs(\"../../data/processed/project\")\n",
    "TRAIN_FILE_NAME = PROCESSED_PROJECT_DIR.getsyspath(\"train.csv\")\n",
    "TEST_FILE_NAME = PROCESSED_PROJECT_DIR.getsyspath(\"test.csv\")\n",
    "\n",
    "MODEL_PROJECT_DIR = fs.open_fs(\"../../models/project\")\n",
    "MODEL_FILE_NAME = MODEL_PROJECT_DIR.getsyspath(\"pipeline_model.joblib\")"
   ]
  },
  {
   "cell_type": "markdown",
   "metadata": {},
   "source": [
    "## Balanced with all variables"
   ]
  },
  {
   "cell_type": "markdown",
   "metadata": {},
   "source": [
    "### Training"
   ]
  },
  {
   "cell_type": "code",
   "execution_count": 3,
   "metadata": {},
   "outputs": [],
   "source": [
    "train_df = pd.read_csv(TRAIN_FILE_NAME)"
   ]
  },
  {
   "cell_type": "code",
   "execution_count": 4,
   "metadata": {},
   "outputs": [],
   "source": [
    "categoric_features = ['BAD', 'REASON', 'JOB']\n",
    "train_df[categoric_features] = train_df[categoric_features].apply(lambda col: col.astype('category'))\n",
    "numeric_features = train_df.select_dtypes(include=['int', 'float']).columns.tolist()\n",
    "categoric_features = ['REASON', 'JOB']"
   ]
  },
  {
   "cell_type": "code",
   "execution_count": 5,
   "metadata": {},
   "outputs": [],
   "source": [
    "# Submuestrear la clase mayoritaria (0)\n",
    "df_majority = train_df[train_df['BAD'] == 0].sample(n=588, random_state=11)\n",
    "df_minority = train_df[train_df['BAD'] == 1]\n",
    "\n",
    "# Concatenar ambas muestras\n",
    "train_df = pd.concat([df_majority, df_minority])"
   ]
  },
  {
   "cell_type": "code",
   "execution_count": 6,
   "metadata": {},
   "outputs": [
    {
     "data": {
      "text/plain": [
       "BAD\n",
       "0    588\n",
       "1    588\n",
       "Name: count, dtype: int64"
      ]
     },
     "execution_count": 6,
     "metadata": {},
     "output_type": "execute_result"
    }
   ],
   "source": [
    "train_df['BAD'].value_counts()"
   ]
  },
  {
   "cell_type": "code",
   "execution_count": 7,
   "metadata": {},
   "outputs": [],
   "source": [
    "X_train = train_df.drop(columns=['BAD'])\n",
    "y_train = train_df['BAD']"
   ]
  },
  {
   "cell_type": "code",
   "execution_count": 8,
   "metadata": {},
   "outputs": [],
   "source": [
    "model = XGBClassifier()"
   ]
  },
  {
   "cell_type": "code",
   "execution_count": 9,
   "metadata": {},
   "outputs": [],
   "source": [
    "preprocessor = ColumnTransformer(\n",
    "    transformers=[\n",
    "        ('num', RobustScaler(), numeric_features),\n",
    "        ('cat', OrdinalEncoder(), categoric_features)\n",
    "    ])"
   ]
  },
  {
   "cell_type": "code",
   "execution_count": 10,
   "metadata": {},
   "outputs": [],
   "source": [
    "pipeline = Pipeline(steps=[('preprocessor', preprocessor), \n",
    "                           ('model', model)])"
   ]
  },
  {
   "cell_type": "code",
   "execution_count": 11,
   "metadata": {},
   "outputs": [
    {
     "data": {
      "text/plain": [
       "['/Users/miguelsepulveda/Library/CloudStorage/OneDrive-Personal/MacBook/UP/MCD/Materias/ML II/MCD-ML2/models/project/pipeline_model.joblib']"
      ]
     },
     "execution_count": 11,
     "metadata": {},
     "output_type": "execute_result"
    }
   ],
   "source": [
    "model_to_val = pipeline.fit(X_train, y_train)\n",
    "dump(pipeline, MODEL_FILE_NAME)"
   ]
  },
  {
   "cell_type": "code",
   "execution_count": 12,
   "metadata": {},
   "outputs": [],
   "source": [
    "model_to_val = load(MODEL_FILE_NAME)\n",
    "preds_train = model_to_val.predict(X_train)"
   ]
  },
  {
   "cell_type": "code",
   "execution_count": 13,
   "metadata": {},
   "outputs": [],
   "source": [
    "acc_train = metrics.accuracy_score(y_train, preds_train)\n",
    "pred_p = model.predict_proba(X_train)\n",
    "fpr, tpr, thresholds = metrics.roc_curve(y_train, pred_p[:, 1])\n",
    "auc_train = metrics.auc(fpr, tpr)\n",
    "f1_train = metrics.f1_score(y_train, preds_train)\n",
    "recall_train = metrics.recall_score(y_train, preds_train)\n",
    "prcson_train = metrics.precision_score(y_train, preds_train)"
   ]
  },
  {
   "cell_type": "code",
   "execution_count": 14,
   "metadata": {},
   "outputs": [
    {
     "name": "stdout",
     "output_type": "stream",
     "text": [
      "accuracy_train:1.0\n",
      "auc_train:0.3653570271646074\n",
      "f1_score_train:1.0\n",
      "recall_train:1.0\n",
      "precision_train:1.0\n",
      "              precision    recall  f1-score   support\n",
      "\n",
      "           0       1.00      1.00      1.00       588\n",
      "           1       1.00      1.00      1.00       588\n",
      "\n",
      "    accuracy                           1.00      1176\n",
      "   macro avg       1.00      1.00      1.00      1176\n",
      "weighted avg       1.00      1.00      1.00      1176\n",
      "\n"
     ]
    }
   ],
   "source": [
    "#ALL\n",
    "print(f\"accuracy_train:{acc_train}\")\n",
    "print(f\"auc_train:{auc_train}\")\n",
    "print(f\"f1_score_train:{f1_train}\")\n",
    "print(f\"recall_train:{recall_train}\")\n",
    "print(f\"precision_train:{prcson_train}\")\n",
    "print(classification_report(y_train, preds_train))"
   ]
  },
  {
   "cell_type": "code",
   "execution_count": 15,
   "metadata": {},
   "outputs": [
    {
     "name": "stdout",
     "output_type": "stream",
     "text": [
      "accuracy_train:1.0\n",
      "auc_train:0.3653570271646074\n",
      "f1_score_train:1.0\n",
      "recall_train:1.0\n",
      "precision_train:1.0\n",
      "              precision    recall  f1-score   support\n",
      "\n",
      "           0       1.00      1.00      1.00       588\n",
      "           1       1.00      1.00      1.00       588\n",
      "\n",
      "    accuracy                           1.00      1176\n",
      "   macro avg       1.00      1.00      1.00      1176\n",
      "weighted avg       1.00      1.00      1.00      1176\n",
      "\n"
     ]
    }
   ],
   "source": [
    "#FEW\n",
    "print(f\"accuracy_train:{acc_train}\")\n",
    "print(f\"auc_train:{auc_train}\")\n",
    "print(f\"f1_score_train:{f1_train}\")\n",
    "print(f\"recall_train:{recall_train}\")\n",
    "print(f\"precision_train:{prcson_train}\")\n",
    "print(classification_report(y_train, preds_train))"
   ]
  },
  {
   "cell_type": "code",
   "execution_count": 16,
   "metadata": {},
   "outputs": [],
   "source": [
    "conf_matrix_train = metrics.confusion_matrix(y_train, preds_train)"
   ]
  },
  {
   "cell_type": "code",
   "execution_count": 17,
   "metadata": {},
   "outputs": [
    {
     "data": {
      "text/plain": [
       "array([[588,   0],\n",
       "       [  0, 588]])"
      ]
     },
     "execution_count": 17,
     "metadata": {},
     "output_type": "execute_result"
    }
   ],
   "source": [
    "conf_matrix_train"
   ]
  },
  {
   "cell_type": "markdown",
   "metadata": {},
   "source": [
    "### Testing"
   ]
  },
  {
   "cell_type": "code",
   "execution_count": 18,
   "metadata": {},
   "outputs": [],
   "source": [
    "test_df = pd.read_csv(TEST_FILE_NAME)"
   ]
  },
  {
   "cell_type": "code",
   "execution_count": 19,
   "metadata": {},
   "outputs": [],
   "source": [
    "categoric_features = ['BAD', 'REASON', 'JOB']\n",
    "test_df[categoric_features] = test_df[categoric_features].apply(lambda col: col.astype('category'))\n",
    "numeric_features = test_df.select_dtypes(include=['int', 'float']).columns.tolist()\n",
    "X_test = test_df.drop(columns=['BAD'])\n",
    "y_test = test_df['BAD']"
   ]
  },
  {
   "cell_type": "code",
   "execution_count": 20,
   "metadata": {},
   "outputs": [],
   "source": [
    "# Cargar el pipeline guardado\n",
    "loaded_pipeline = load(MODEL_FILE_NAME)\n",
    "\n",
    "# Usar el pipeline cargado para predecir\n",
    "predictions = loaded_pipeline.predict(X_test)"
   ]
  },
  {
   "cell_type": "code",
   "execution_count": 21,
   "metadata": {},
   "outputs": [],
   "source": [
    "acc_test = metrics.accuracy_score(y_test, predictions)\n",
    "pred_ptest = loaded_pipeline.predict_proba(X_test)\n",
    "fpr, tpr, thresholds = metrics.roc_curve(y_test, pred_ptest[:, 1])\n",
    "auc_test = metrics.auc(fpr, tpr)\n",
    "f1_test = metrics.f1_score(y_test, predictions)\n",
    "recall_test = metrics.recall_score(y_test, predictions)\n",
    "prcson_test = metrics.precision_score(y_test, predictions)"
   ]
  },
  {
   "cell_type": "code",
   "execution_count": 22,
   "metadata": {},
   "outputs": [
    {
     "name": "stdout",
     "output_type": "stream",
     "text": [
      "accuracy_train:0.8505526189332052\n",
      "auc_train:0.9171977973404969\n",
      "f1_score_train:0.6959921798631477\n",
      "recall_train:0.8416075650118203\n",
      "precision_train:0.5933333333333334\n",
      "              precision    recall  f1-score   support\n",
      "\n",
      "           0       0.95      0.85      0.90      1658\n",
      "           1       0.59      0.84      0.70       423\n",
      "\n",
      "    accuracy                           0.85      2081\n",
      "   macro avg       0.77      0.85      0.80      2081\n",
      "weighted avg       0.88      0.85      0.86      2081\n",
      "\n"
     ]
    }
   ],
   "source": [
    "#ALL\n",
    "print(f\"accuracy_train:{acc_test}\")\n",
    "print(f\"auc_train:{auc_test}\")\n",
    "print(f\"f1_score_train:{f1_test}\")\n",
    "print(f\"recall_train:{recall_test}\")\n",
    "print(f\"precision_train:{prcson_test}\")\n",
    "print(classification_report(y_test, predictions))"
   ]
  },
  {
   "cell_type": "code",
   "execution_count": 23,
   "metadata": {},
   "outputs": [
    {
     "data": {
      "text/plain": [
       "array([[1414,  244],\n",
       "       [  67,  356]])"
      ]
     },
     "execution_count": 23,
     "metadata": {},
     "output_type": "execute_result"
    }
   ],
   "source": [
    "conf_matrix_test = metrics.confusion_matrix(y_test, predictions)\n",
    "conf_matrix_test"
   ]
  },
  {
   "cell_type": "code",
   "execution_count": 24,
   "metadata": {},
   "outputs": [
    {
     "name": "stdout",
     "output_type": "stream",
     "text": [
      "accuracy_train:0.8505526189332052\n",
      "auc_train:0.9171977973404969\n",
      "f1_score_train:0.6959921798631477\n",
      "recall_train:0.8416075650118203\n",
      "precision_train:0.5933333333333334\n",
      "              precision    recall  f1-score   support\n",
      "\n",
      "           0       0.95      0.85      0.90      1658\n",
      "           1       0.59      0.84      0.70       423\n",
      "\n",
      "    accuracy                           0.85      2081\n",
      "   macro avg       0.77      0.85      0.80      2081\n",
      "weighted avg       0.88      0.85      0.86      2081\n",
      "\n"
     ]
    }
   ],
   "source": [
    "#FEW\n",
    "print(f\"accuracy_train:{acc_test}\")\n",
    "print(f\"auc_train:{auc_test}\")\n",
    "print(f\"f1_score_train:{f1_test}\")\n",
    "print(f\"recall_train:{recall_test}\")\n",
    "print(f\"precision_train:{prcson_test}\")\n",
    "print(classification_report(y_test, predictions))"
   ]
  },
  {
   "cell_type": "code",
   "execution_count": 25,
   "metadata": {},
   "outputs": [
    {
     "data": {
      "text/plain": [
       "array([[1414,  244],\n",
       "       [  67,  356]])"
      ]
     },
     "execution_count": 25,
     "metadata": {},
     "output_type": "execute_result"
    }
   ],
   "source": [
    "conf_matrix_test = metrics.confusion_matrix(y_test, predictions)\n",
    "conf_matrix_test"
   ]
  },
  {
   "cell_type": "code",
   "execution_count": 26,
   "metadata": {},
   "outputs": [
    {
     "data": {
      "image/png": "[encoded data removed]",
      "text/plain": [
       "<Figure size 800x600 with 1 Axes>"
      ]
     },
     "metadata": {},
     "output_type": "display_data"
    }
   ],
   "source": [
    "# FEW\n",
    "import matplotlib.pyplot as plt\n",
    "from sklearn.metrics import precision_recall_curve, average_precision_score\n",
    "\n",
    "# Suponiendo que tienes X_test y y_test\n",
    "# Obtener las probabilidades de la clase positiva\n",
    "y_scores = loaded_pipeline.predict_proba(X_test)[:, 1]  # Asegúrate de usar el modelo que hayas entrenado\n",
    "\n",
    "# Calcular precisión, recall y umbrales\n",
    "precision, recall, thresholds = precision_recall_curve(y_test, y_scores)\n",
    "\n",
    "# Calcular el promedio de la precisión\n",
    "average_precision = average_precision_score(y_test, y_scores)\n",
    "\n",
    "# Graficar la curva de precisión-recall\n",
    "plt.figure(figsize=(8, 6))\n",
    "plt.plot(recall, precision, label=f'Precision-Recall Curve (AP = {average_precision:.2f})')\n",
    "plt.xlabel('Recall')\n",
    "plt.ylabel('Precision')\n",
    "plt.title('Precision-Recall Curve')\n",
    "plt.legend(loc='best')\n",
    "plt.grid()\n",
    "plt.show()\n"
   ]
  },
  {
   "cell_type": "code",
   "execution_count": 27,
   "metadata": {},
   "outputs": [
    {
     "data": {
      "image/png": "[encoded data removed]",
      "text/plain": [
       "<Figure size 800x600 with 1 Axes>"
      ]
     },
     "metadata": {},
     "output_type": "display_data"
    }
   ],
   "source": [
    "# ALL\n",
    "import matplotlib.pyplot as plt\n",
    "from sklearn.metrics import precision_recall_curve, average_precision_score\n",
    "\n",
    "# Suponiendo que tienes X_test y y_test\n",
    "# Obtener las probabilidades de la clase positiva\n",
    "y_scores = pipeline.predict_proba(X_test)[:, 1]  # Asegúrate de usar el modelo que hayas entrenado\n",
    "\n",
    "# Calcular precisión, recall y umbrales\n",
    "precision, recall, thresholds = precision_recall_curve(y_test, y_scores)\n",
    "\n",
    "# Calcular el promedio de la precisión\n",
    "average_precision = average_precision_score(y_test, y_scores)\n",
    "\n",
    "# Graficar la curva de precisión-recall\n",
    "plt.figure(figsize=(8, 6))\n",
    "plt.plot(recall, precision, label=f'Precision-Recall Curve (AP = {average_precision:.2f})')\n",
    "plt.xlabel('Recall')\n",
    "plt.ylabel('Precision')\n",
    "plt.title('Precision-Recall Curve')\n",
    "plt.legend(loc='best')\n",
    "plt.grid()\n",
    "plt.show()"
   ]
  }
 ],
 "metadata": {
  "kernelspec": {
   "display_name": "ML2",
   "language": "python",
   "name": "python3"
  },
  "language_info": {
   "codemirror_mode": {
    "name": "ipython",
    "version": 3
   },
   "file_extension": ".py",
   "mimetype": "text/x-python",
   "name": "python",
   "nbconvert_exporter": "python",
   "pygments_lexer": "ipython3",
   "version": "3.11.9"
  }
 },
 "nbformat": 4,
 "nbformat_minor": 2
}
