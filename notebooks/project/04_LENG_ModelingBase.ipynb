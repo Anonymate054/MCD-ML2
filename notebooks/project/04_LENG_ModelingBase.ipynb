{
 "cells": [
  {
   "cell_type": "code",
   "execution_count": 1,
   "metadata": {},
   "outputs": [],
   "source": [
    "import pandas as pd\n",
    "import fs\n",
    "\n",
    "PROCESSED_PROJECT_DIR = fs.open_fs(\"../../data/processed/project\")\n",
    "X_TRAIN_DIR = PROCESSED_PROJECT_DIR.getsyspath(\"x_train.csv\")\n",
    "X_TEST_DIR = PROCESSED_PROJECT_DIR.getsyspath(\"x_test.csv\")\n",
    "X_VAL_DIR = PROCESSED_PROJECT_DIR.getsyspath(\"x_val.csv\")\n",
    "Y_TRAIN_DIR = PROCESSED_PROJECT_DIR.getsyspath(\"y_train.csv\")\n",
    "Y_TEST_DIR = PROCESSED_PROJECT_DIR.getsyspath(\"y_test.csv\")\n",
    "Y_VAL_DIR = PROCESSED_PROJECT_DIR.getsyspath(\"y_val.csv\")"
   ]
  },
  {
   "cell_type": "code",
   "execution_count": 2,
   "metadata": {},
   "outputs": [],
   "source": [
    "X_train = pd.read_csv(X_TRAIN_DIR)\n",
    "y_train = pd.read_csv(Y_TRAIN_DIR)\n",
    "X_test = pd.read_csv(X_TEST_DIR)\n",
    "y_test = pd.read_csv(Y_TEST_DIR)\n",
    "X_val = pd.read_csv(X_VAL_DIR)\n",
    "y_val = pd.read_csv(Y_VAL_DIR)"
   ]
  },
  {
   "cell_type": "code",
   "execution_count": null,
   "metadata": {},
   "outputs": [],
   "source": []
  }
 ],
 "metadata": {
  "kernelspec": {
   "display_name": "ML2",
   "language": "python",
   "name": "python3"
  },
  "language_info": {
   "codemirror_mode": {
    "name": "ipython",
    "version": 3
   },
   "file_extension": ".py",
   "mimetype": "text/x-python",
   "name": "python",
   "nbconvert_exporter": "python",
   "pygments_lexer": "ipython3",
   "version": "3.11.9"
  }
 },
 "nbformat": 4,
 "nbformat_minor": 2
}
