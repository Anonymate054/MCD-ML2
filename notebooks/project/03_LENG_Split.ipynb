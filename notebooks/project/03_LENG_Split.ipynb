{
 "cells": [
  {
   "cell_type": "code",
   "execution_count": 36,
   "metadata": {},
   "outputs": [],
   "source": [
    "from sklearn.model_selection import train_test_split\n",
    "import pandas as pd\n",
    "import fs\n",
    "\n",
    "\n",
    "INTERIM_PROJECT_DIR = fs.open_fs(\"../../data/interim/project\")\n",
    "INTERIM_FILE_NAME = INTERIM_PROJECT_DIR.getsyspath(\"hmeq_clean.csv\")\n",
    "\n",
    "PROCESSED_PROJECT_DIR = fs.open_fs(\"../../data/processed/project\")\n",
    "X_TRAIN_DIR = PROCESSED_PROJECT_DIR.getsyspath(\"x_train.csv\")\n",
    "X_TEST_DIR = PROCESSED_PROJECT_DIR.getsyspath(\"x_test.csv\")\n",
    "X_VAL_DIR = PROCESSED_PROJECT_DIR.getsyspath(\"x_val.csv\")\n",
    "Y_TRAIN_DIR = PROCESSED_PROJECT_DIR.getsyspath(\"y_train.csv\")\n",
    "Y_TEST_DIR = PROCESSED_PROJECT_DIR.getsyspath(\"y_test.csv\")\n",
    "Y_VAL_DIR = PROCESSED_PROJECT_DIR.getsyspath(\"y_val.csv\")"
   ]
  },
  {
   "cell_type": "code",
   "execution_count": 37,
   "metadata": {},
   "outputs": [
    {
     "data": {
      "text/html": [
       "<div>\n",
       "<style scoped>\n",
       "    .dataframe tbody tr th:only-of-type {\n",
       "        vertical-align: middle;\n",
       "    }\n",
       "\n",
       "    .dataframe tbody tr th {\n",
       "        vertical-align: top;\n",
       "    }\n",
       "\n",
       "    .dataframe thead th {\n",
       "        text-align: right;\n",
       "    }\n",
       "</style>\n",
       "<table border=\"1\" class=\"dataframe\">\n",
       "  <thead>\n",
       "    <tr style=\"text-align: right;\">\n",
       "      <th></th>\n",
       "      <th>BAD</th>\n",
       "      <th>LOAN</th>\n",
       "      <th>MORTDUE</th>\n",
       "      <th>VALUE</th>\n",
       "      <th>REASON</th>\n",
       "      <th>JOB</th>\n",
       "      <th>YOJ</th>\n",
       "      <th>DEROG</th>\n",
       "      <th>DELINQ</th>\n",
       "      <th>CLAGE</th>\n",
       "      <th>NINQ</th>\n",
       "      <th>CLNO</th>\n",
       "      <th>DEBTINC</th>\n",
       "    </tr>\n",
       "  </thead>\n",
       "  <tbody>\n",
       "    <tr>\n",
       "      <th>0</th>\n",
       "      <td>1</td>\n",
       "      <td>10.000000</td>\n",
       "      <td>15.388176</td>\n",
       "      <td>13.293101</td>\n",
       "      <td>1</td>\n",
       "      <td>2</td>\n",
       "      <td>33.048780</td>\n",
       "      <td>10.0</td>\n",
       "      <td>10.0</td>\n",
       "      <td>17.269950</td>\n",
       "      <td>15.294118</td>\n",
       "      <td>21.408451</td>\n",
       "      <td>10.0</td>\n",
       "    </tr>\n",
       "    <tr>\n",
       "      <th>1</th>\n",
       "      <td>1</td>\n",
       "      <td>10.202703</td>\n",
       "      <td>25.394466</td>\n",
       "      <td>16.411065</td>\n",
       "      <td>1</td>\n",
       "      <td>2</td>\n",
       "      <td>25.365854</td>\n",
       "      <td>10.0</td>\n",
       "      <td>22.0</td>\n",
       "      <td>19.385966</td>\n",
       "      <td>10.000000</td>\n",
       "      <td>27.746479</td>\n",
       "      <td>10.0</td>\n",
       "    </tr>\n",
       "    <tr>\n",
       "      <th>2</th>\n",
       "      <td>1</td>\n",
       "      <td>10.405405</td>\n",
       "      <td>12.589594</td>\n",
       "      <td>10.923448</td>\n",
       "      <td>1</td>\n",
       "      <td>2</td>\n",
       "      <td>18.780488</td>\n",
       "      <td>10.0</td>\n",
       "      <td>10.0</td>\n",
       "      <td>21.514821</td>\n",
       "      <td>15.294118</td>\n",
       "      <td>22.676056</td>\n",
       "      <td>10.0</td>\n",
       "    </tr>\n",
       "    <tr>\n",
       "      <th>3</th>\n",
       "      <td>1</td>\n",
       "      <td>10.405405</td>\n",
       "      <td>19.042635</td>\n",
       "      <td>15.519460</td>\n",
       "      <td>0</td>\n",
       "      <td>2</td>\n",
       "      <td>10.000000</td>\n",
       "      <td>10.0</td>\n",
       "      <td>10.0</td>\n",
       "      <td>17.896537</td>\n",
       "      <td>10.000000</td>\n",
       "      <td>30.281690</td>\n",
       "      <td>10.0</td>\n",
       "    </tr>\n",
       "    <tr>\n",
       "      <th>4</th>\n",
       "      <td>0</td>\n",
       "      <td>10.608108</td>\n",
       "      <td>31.677011</td>\n",
       "      <td>21.038920</td>\n",
       "      <td>1</td>\n",
       "      <td>1</td>\n",
       "      <td>16.585366</td>\n",
       "      <td>10.0</td>\n",
       "      <td>10.0</td>\n",
       "      <td>17.190343</td>\n",
       "      <td>10.000000</td>\n",
       "      <td>27.746479</td>\n",
       "      <td>10.0</td>\n",
       "    </tr>\n",
       "  </tbody>\n",
       "</table>\n",
       "</div>"
      ],
      "text/plain": [
       "   BAD       LOAN    MORTDUE      VALUE  REASON  JOB        YOJ  DEROG  \\\n",
       "0    1  10.000000  15.388176  13.293101       1    2  33.048780   10.0   \n",
       "1    1  10.202703  25.394466  16.411065       1    2  25.365854   10.0   \n",
       "2    1  10.405405  12.589594  10.923448       1    2  18.780488   10.0   \n",
       "3    1  10.405405  19.042635  15.519460       0    2  10.000000   10.0   \n",
       "4    0  10.608108  31.677011  21.038920       1    1  16.585366   10.0   \n",
       "\n",
       "   DELINQ      CLAGE       NINQ       CLNO  DEBTINC  \n",
       "0    10.0  17.269950  15.294118  21.408451     10.0  \n",
       "1    22.0  19.385966  10.000000  27.746479     10.0  \n",
       "2    10.0  21.514821  15.294118  22.676056     10.0  \n",
       "3    10.0  17.896537  10.000000  30.281690     10.0  \n",
       "4    10.0  17.190343  10.000000  27.746479     10.0  "
      ]
     },
     "execution_count": 37,
     "metadata": {},
     "output_type": "execute_result"
    }
   ],
   "source": [
    "df = pd.read_csv(INTERIM_FILE_NAME)\n",
    "df.head()"
   ]
  },
  {
   "cell_type": "code",
   "execution_count": 38,
   "metadata": {},
   "outputs": [],
   "source": [
    "target = \"BAD\"\n",
    "X = df.drop(columns=[target]).copy()\n",
    "y = df[target].copy()"
   ]
  },
  {
   "cell_type": "markdown",
   "metadata": {},
   "source": [
    "Split datasets"
   ]
  },
  {
   "cell_type": "code",
   "execution_count": 39,
   "metadata": {},
   "outputs": [],
   "source": [
    "X_train, X_test, y_train, y_test = train_test_split(X, y, test_size=0.2, random_state=1)\n",
    "X_train, X_val, y_train, y_val = train_test_split(X_train, y_train, test_size=0.25, random_state=1) # 0.25 x 0.8 = 0.2"
   ]
  },
  {
   "cell_type": "markdown",
   "metadata": {},
   "source": [
    "Saving DataFrames"
   ]
  },
  {
   "cell_type": "code",
   "execution_count": 40,
   "metadata": {},
   "outputs": [],
   "source": [
    "X_train.to_csv(X_TRAIN_DIR, encoding='utf-8', index=False)\n",
    "X_test.to_csv(X_TEST_DIR, encoding='utf-8', index=False)\n",
    "X_val.to_csv(X_VAL_DIR, encoding='utf-8', index=False)\n",
    "\n",
    "y_train.to_csv(Y_TRAIN_DIR, encoding='utf-8', index=False)\n",
    "y_test.to_csv(Y_TEST_DIR, encoding='utf-8', index=False)\n",
    "y_val.to_csv(Y_VAL_DIR, encoding='utf-8', index=False)"
   ]
  }
 ],
 "metadata": {
  "kernelspec": {
   "display_name": "ML2",
   "language": "python",
   "name": "python3"
  },
  "language_info": {
   "codemirror_mode": {
    "name": "ipython",
    "version": 3
   },
   "file_extension": ".py",
   "mimetype": "text/x-python",
   "name": "python",
   "nbconvert_exporter": "python",
   "pygments_lexer": "ipython3",
   "version": "3.11.9"
  }
 },
 "nbformat": 4,
 "nbformat_minor": 2
}
